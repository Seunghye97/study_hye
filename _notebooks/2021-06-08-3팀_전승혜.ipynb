{
  "nbformat": 4,
  "nbformat_minor": 0,
  "metadata": {
    "colab": {
      "name": "2021-06-08-3팀_전승혜.ipynb",
      "private_outputs": true,
      "provenance": [],
      "collapsed_sections": [],
      "include_colab_link": true
    },
    "kernelspec": {
      "name": "python3",
      "display_name": "Python 3"
    },
    "language_info": {
      "name": "python"
    }
  },
  "cells": [
    {
      "cell_type": "markdown",
      "metadata": {
        "id": "view-in-github",
        "colab_type": "text"
      },
      "source": [
        "<a href=\"https://colab.research.google.com/github/Seunghye97/study_hye/blob/master/_notebooks/2021-06-08-3%ED%8C%80_%EC%A0%84%EC%8A%B9%ED%98%9C.ipynb\" target=\"_parent\"><img src=\"https://colab.research.google.com/assets/colab-badge.svg\" alt=\"Open In Colab\"/></a>"
      ]
    },
    {
      "cell_type": "markdown",
      "metadata": {
        "id": "y-16dnwsCu4T"
      },
      "source": [
        "# 모듈과 패키지"
      ]
    },
    {
      "cell_type": "markdown",
      "metadata": {
        "id": "pE616aYa6W5q"
      },
      "source": [
        "## 모듈만들기 "
      ]
    },
    {
      "cell_type": "code",
      "metadata": {
        "id": "xk1Tps-x_dmn"
      },
      "source": [
        "from google.colab import drive\n",
        "drive.mount('/content/drive')"
      ],
      "execution_count": null,
      "outputs": []
    },
    {
      "cell_type": "code",
      "metadata": {
        "id": "BowrImEcAIzU"
      },
      "source": [
        "% cd /content/drive/MyDrive/1.sba파이썬교육/colab1"
      ],
      "execution_count": null,
      "outputs": []
    },
    {
      "cell_type": "code",
      "metadata": {
        "id": "BSyHiPpd7t4b"
      },
      "source": [
        "import mycalc\n",
        "p = mycalc.get_plus(2,2)\n",
        "m = mycalc.get_plus(3,2)\n",
        "print(p,m)"
      ],
      "execution_count": null,
      "outputs": []
    },
    {
      "cell_type": "code",
      "metadata": {
        "id": "pqreswtfBO5i"
      },
      "source": [
        "# 모듈 별칭 사용\n",
        "import mycalc as cal \n",
        "p = cal.get_plus(2,2)\n",
        "m = cal.get_minus(3,2)\n",
        "print(p,m)"
      ],
      "execution_count": null,
      "outputs": []
    },
    {
      "cell_type": "code",
      "metadata": {
        "id": "mOtffvCECHpE"
      },
      "source": [
        "# 모듈 함수명만 사용 : 모듈이름 붙이지 않고 모듈의 함수 사용하기\n",
        "from mycalc import get_plus\n",
        "p = get_plus(2,2)\n",
        "m = cal.get_minus(3,2)\n",
        "print(p,m)"
      ],
      "execution_count": null,
      "outputs": []
    },
    {
      "cell_type": "code",
      "metadata": {
        "id": "DG2pwU09CkA6"
      },
      "source": [
        "# 모듈 함수명만 사용\n",
        "from mycalc import get_plus,get_minus\n",
        "p = get_plus(2,2)\n",
        "m = get_minus(3,2)\n",
        "print(p,m)"
      ],
      "execution_count": null,
      "outputs": []
    },
    {
      "cell_type": "code",
      "metadata": {
        "id": "rY9cYzxlCdEp"
      },
      "source": [
        "# 모듈 함수명만 사용\n",
        "from mycalc import *\n",
        "p = get_plus(2,2)\n",
        "m = get_minus(3,2)\n",
        "print(p,m)"
      ],
      "execution_count": null,
      "outputs": []
    },
    {
      "cell_type": "markdown",
      "metadata": {
        "id": "BYZaBPGaC2Ie"
      },
      "source": [
        "## 패키지"
      ]
    },
    {
      "cell_type": "markdown",
      "metadata": {
        "id": "kfFe1O7gDHbX"
      },
      "source": [
        "패키지(Packages)는 도트(.)를 사용하여 파이썬 모듈을 계층적(디렉터리 구조)으로 관리할 수 있게 해줍니다.\n",
        "\n",
        "패키지명.디렉토리명.모듈명"
      ]
    },
    {
      "cell_type": "markdown",
      "metadata": {
        "id": "XtW1hXfe3kcW"
      },
      "source": [
        "## 클래스"
      ]
    },
    {
      "cell_type": "markdown",
      "metadata": {
        "id": "hh0_YiA1QP0S"
      },
      "source": [
        "### 클래스의 사용"
      ]
    },
    {
      "cell_type": "code",
      "metadata": {
        "id": "vqEG3J5dzGl6"
      },
      "source": [
        "# 2대의 계산기가 필요한 경우\n",
        "result1 = 0\n",
        "result2 = 0\n",
        "\n",
        "def add1(num):\n",
        "    global result1\n",
        "    result1 += num\n",
        "    return result1\n",
        "\n",
        "def add2(num):\n",
        "    global result2\n",
        "    result2 += num\n",
        "    return result2\n",
        "\n",
        "print(add1(3))\n",
        "print(add1(4))\n",
        "print(add2(3))\n",
        "print(add2(7))"
      ],
      "execution_count": null,
      "outputs": []
    },
    {
      "cell_type": "code",
      "metadata": {
        "id": "SyKvfiCa34qN"
      },
      "source": [
        "# 계산기를 class로 정의\n",
        "class Calculator:\n",
        "    def __init__(self):\n",
        "        self.result = 0\n",
        "\n",
        "    def add(self, num):\n",
        "        self.result += num\n",
        "        return self.result\n",
        "\n",
        "cal1 = Calculator()\n",
        "cal2 = Calculator()\n",
        "\n",
        "print(cal1.add(3))\n",
        "print(cal1.add(4))\n",
        "print(cal2.add(3))\n",
        "print(cal2.add(7))"
      ],
      "execution_count": null,
      "outputs": []
    },
    {
      "cell_type": "code",
      "metadata": {
        "id": "doPNFA7S5YOi"
      },
      "source": [
        "# 계산기를 class로 정의\n",
        "class Calculator:\n",
        "    def __init__(self):\n",
        "        self.result = 0\n",
        "\n",
        "    def add(self, num):\n",
        "        self.result += num\n",
        "        return self.result\n",
        "    def sub(self, num):\n",
        "        self.result -= num\n",
        "        return self.result\n",
        "\n",
        "cal1 = Calculator()\n",
        "cal2 = Calculator()\n",
        "cal3 = Calculator()\n",
        "\n",
        "print(cal1.add(3))\n",
        "print(cal2.add(4))\n",
        "print(cal3.sub(3))\n"
      ],
      "execution_count": null,
      "outputs": []
    },
    {
      "cell_type": "markdown",
      "metadata": {
        "id": "5-XBGICVNWxd"
      },
      "source": [
        "### 자동차 클래스 만들기"
      ]
    },
    {
      "cell_type": "code",
      "metadata": {
        "id": "pX8TjJN1NZnr"
      },
      "source": [
        "# 자동차 객체의 틀\n",
        "class Car:\n",
        "    brand =  ''\n",
        "    model = ''\n",
        "    color = ''\n",
        "    def turn_on(self):\n",
        "        print('시동을 겁니다')\n",
        "    def turn_off(self):\n",
        "        print('시동을 끕니다')\n",
        "    def drive(self):\n",
        "        print('주행중입니다')"
      ],
      "execution_count": null,
      "outputs": []
    },
    {
      "cell_type": "markdown",
      "metadata": {
        "id": "inoqOj7P3fYg"
      },
      "source": [
        "**sss**"
      ]
    },
    {
      "cell_type": "code",
      "metadata": {
        "id": "WEQwxE5YON6v"
      },
      "source": [
        "# 두대의 자동차 객체 생성\n",
        "car1 = Car()\n",
        "car2 = Car()\n",
        "\n",
        "#car1 - 흰색 BMT 3 \n",
        "car1.brand = 'BMW'\n",
        "car1.model = '3'\n",
        "car1.color = 'white'\n",
        "#car2 - 블랙 audi A5 \n",
        "car2.brand = 'audi'\n",
        "car2.model = 'A5'\n",
        "car2.color = 'black'\n"
      ],
      "execution_count": null,
      "outputs": []
    },
    {
      "cell_type": "code",
      "metadata": {
        "id": "F_HNumu7PWRL"
      },
      "source": [
        "car1.turn_on()\n",
        "car2.turn_on()"
      ],
      "execution_count": null,
      "outputs": []
    },
    {
      "cell_type": "markdown",
      "metadata": {
        "id": "2MUjM8gdQWvX"
      },
      "source": [
        "### 객체를 생성시 속성 초기화"
      ]
    },
    {
      "cell_type": "code",
      "metadata": {
        "id": "BrTSpCCAQfV_"
      },
      "source": [
        "class Car:\n",
        "    def __init__(self,brand,model,color):\n",
        "        self.brand = brand\n",
        "        self.model = model\n",
        "        self.color = color\n",
        "        print(brand,model,color,'생성')\n",
        "\n",
        "    def turn_on(self):\n",
        "        print('시동을 겁니다')\n",
        "    def turn_off(self):\n",
        "        print('시동을 끕니다')\n",
        "    def drive(self):\n",
        "        print('주행중입니다')"
      ],
      "execution_count": null,
      "outputs": []
    },
    {
      "cell_type": "code",
      "metadata": {
        "id": "jpdEGmGdRNRK"
      },
      "source": [
        "car1 = Car('BMT','3','white')\n",
        "car2 = Car('audi','A5','black')"
      ],
      "execution_count": null,
      "outputs": []
    },
    {
      "cell_type": "markdown",
      "metadata": {
        "id": "-ZRmRKslRjnx"
      },
      "source": [
        "### 매소드에서 속성 사용하기"
      ]
    },
    {
      "cell_type": "code",
      "metadata": {
        "id": "xN0B3xQXRpsv"
      },
      "source": [
        "class Car:\n",
        "    def __init__(self,brand,model,color):\n",
        "        self.brand = brand\n",
        "        self.model = model\n",
        "        self.color = color\n",
        "        print(brand,model,color,'생성')\n",
        "\n",
        "    def turn_on(self):\n",
        "        print(f'{self.brand} {self.model} 시동을 겁니다')\n",
        "    def turn_off(self):\n",
        "        print(f'{self.brand} {self.model} 시동을 끕니다')\n",
        "    def drive(self):\n",
        "        print(f'{self.brand} {self.model} 주행중입니다')\n"
      ],
      "execution_count": null,
      "outputs": []
    },
    {
      "cell_type": "code",
      "metadata": {
        "id": "-EwhttImSEZi"
      },
      "source": [
        "car1 = Car('BMT','3','white')\n",
        "car2 = Car('audi','A5','black')\n",
        "\n",
        "# car1,car2 기능 수행\n",
        "car1.turn_on()\n",
        "car1.drive()\n",
        "car1.turn_off()\n",
        "\n",
        "car2.turn_on()\n",
        "car2.drive()\n",
        "car2.turn_off()\n"
      ],
      "execution_count": null,
      "outputs": []
    },
    {
      "cell_type": "markdown",
      "metadata": {
        "id": "PvupYT6OpZEQ"
      },
      "source": [
        "### Person 클래스 만들기"
      ]
    },
    {
      "cell_type": "code",
      "metadata": {
        "id": "D8zuBs8Rp1cA"
      },
      "source": [
        "class Person:\n",
        "    def __init__(self, name, age, address):\n",
        "        self.hello = '안녕하세요'\n",
        "        self.name = name\n",
        "        self.age = age\n",
        "        self.address = address\n",
        "\n",
        "    def greeting(self):\n",
        "        print(f'{self.hello} 저는 {self.name} 입니다')\n",
        "\n",
        "p1 = Person('전승혜', 25, '서울')\n",
        "p2 = Person('신효식', 30, '서울')\n",
        "\n",
        "p1.greeting()\n",
        "p2.greeting()\n",
        "print('이름: ',p1.name)\n",
        "print('나이: ',p1.age)\n",
        "print('주소: ',p1.address)\n",
        "\n",
        "print('이름:', p2.name)\n",
        "print('나이:', p2.age)\n",
        "print('주소: ',p1.address)"
      ],
      "execution_count": null,
      "outputs": []
    },
    {
      "cell_type": "code",
      "metadata": {
        "id": "hxJkDTK3rLUL"
      },
      "source": [
        "class Book: \n",
        "    def __init__(self, bookName): \n",
        "        self.name = bookName \n",
        "        print(\"객체가 생성되었습니다. 책의 이름은 \" + bookName + \"입니다.\")\n",
        "    def __del__(self): \n",
        "        print(self.name + \" 객체가 소멸합니다.\")\n",
        "\n",
        "book1 = Book(\"DT 파이썬\")\n",
        "del book1"
      ],
      "execution_count": null,
      "outputs": []
    },
    {
      "cell_type": "markdown",
      "metadata": {
        "id": "o3V0vJwKbrIE"
      },
      "source": [
        "# 주사위 게임"
      ]
    },
    {
      "cell_type": "code",
      "metadata": {
        "id": "td58xoCnugaj"
      },
      "source": [
        "# 프로그램 구성 \n",
        "import random\n",
        "# 초기 변수값 - 내 주사위 위치 ,컴퓨터 주사위 위치\n",
        "\n",
        "# 주사위말 함수 - 30까지 주사위 위치 표현\n",
        "\n",
        "# 시작시 출력화면 구성 - 게임 스타트\n",
        "\n",
        "while True:\n",
        "    input(\"Enter를 누르면 여러분의 말이 움직입니다\")\n",
        "    # 내 주사위수 계산 ,승패 체크\n",
        "    input(\"Enter를 누르면 컴퓨터의 말이 움직입니다\")\n",
        "    # 컴푸터 주사위 수 계산,승패 체크"
      ],
      "execution_count": null,
      "outputs": []
    },
    {
      "cell_type": "code",
      "metadata": {
        "id": "pLW_DYeStgGs"
      },
      "source": [
        "# step1 함수 구성 \n",
        "import random\n",
        "pl_pos = 1\n",
        "com_pos = 1\n",
        "\n",
        "def board():\n",
        "    print(\"-\" * (pl_pos - 1) + \"Ｐ\" + \"-\" * (30 - pl_pos) + \"Goal\")\n",
        "    print(\"-\" * (com_pos - 1) + \"Ｃ\" + \"-\" * (30 - com_pos) + \"Goal\")\n",
        "\n",
        "board()\n",
        "print(\"주사위 게임, 스타트!\")"
      ],
      "execution_count": null,
      "outputs": []
    },
    {
      "cell_type": "code",
      "metadata": {
        "id": "eYkjOChKkiBV"
      },
      "source": [
        "import random\n",
        "pl_pos = 1\n",
        "com_pos = 1\n",
        "\n",
        "def board():\n",
        "    print(\"-\" * (pl_pos - 1) + \"Ｐ\" + \"-\" * (30 - pl_pos) + \"Goal\")\n",
        "    print(\"-\" * (com_pos - 1) + \"Ｃ\" + \"-\" * (30 - com_pos) + \"Goal\")\n",
        "\n",
        "board()\n",
        "print(\"주사위 게임, 스타트!\")\n",
        "while True:\n",
        "    input(\"Enter를 누르면 여러분의 말이 움직입니다\")\n",
        "    pl_pos = pl_pos + random.randint(1, 6)\n",
        "    if pl_pos > 30:\n",
        "        pl_pos = 30\n",
        "    board()\n",
        "    if pl_pos == 30:\n",
        "        print(\"당신이 승리했습니다！\")\n",
        "        break\n",
        "    input(\"Enter를 누르면 컴퓨터의 말이 움직입니다\")\n",
        "    com_pos = com_pos + random.randint(1, 6)\n",
        "    if com_pos > 30:\n",
        "        com_pos = 30\n",
        "    board()\n",
        "    if com_pos == 30:\n",
        "        print(\"컴퓨터가 승리했습니다!\")\n",
        "        break"
      ],
      "execution_count": null,
      "outputs": []
    },
    {
      "cell_type": "code",
      "metadata": {
        "id": "E2idYrJCyhH3"
      },
      "source": [
        "import random\n",
        "# 초기 변수값 - 내 주사위 위치 ,컴퓨터 주사위 위치\n",
        "pl_pos = 1\n",
        "com_pos = 1\n",
        "\n",
        "items_game = ['마법신발', '바나나', '더블']\n",
        "\n",
        "\n",
        "def board():\n",
        "    print(\"-\" * (pl_pos - 1) + \"Ｐ\" + \"-\" * (30 - pl_pos) + \"Goal\")\n",
        "    print(\"-\" * (com_pos - 1) + \"Ｃ\" + \"-\" * (30 - com_pos) + \"Goal\")\n",
        "\n",
        "\n",
        "\n",
        "board()\n",
        "print(\"주사위 게임, 스타트!\")\n",
        "while True:\n",
        "    pl_item=''\n",
        "    pl_turn = input(\"Enter를 누르면 여러분의 말이 움직입니다\")\n",
        "    if pl_turn =='':\n",
        "        pl_pos = pl_pos + random.randint(1, 6)\n",
        "\n",
        "    elif pl_turn == '아이템':\n",
        "        pl_item = random.choice(items_game)\n",
        "        print(pl_item)\n",
        "\n",
        "    if pl_item == '마법신발':\n",
        "        pl_pos = pl_pos + 10\n",
        "\n",
        "    elif pl_item == '바나나':\n",
        "        com_pos = com_pos - 5\n",
        "\n",
        "    elif pl_item == '더블':\n",
        "        pl_pos = pl_pos + 2*random.randint(1, 6)\n",
        "\n",
        "    if pl_pos > 30:\n",
        "        pl_pos = 30\n",
        "    board()\n",
        "    if pl_pos == 30:\n",
        "        print(\"당신이 승리했습니다！\")\n",
        "        break\n",
        "    input(\"Enter를 누르면 컴퓨터의 말이 움직입니다\")\n",
        "    com_pos = com_pos + random.randint(1, 6)\n",
        "    if com_pos > 30:\n",
        "        com_pos = 30\n",
        "    board()\n",
        "    if com_pos == 30:\n",
        "        print(\"컴퓨터가 승리했습니다!\")\n",
        "        break"
      ],
      "execution_count": null,
      "outputs": []
    }
  ]
}